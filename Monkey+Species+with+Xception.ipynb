{
 "cells": [
  {
   "cell_type": "code",
   "execution_count": 1,
   "metadata": {},
   "outputs": [
    {
     "name": "stderr",
     "output_type": "stream",
     "text": [
      "Using TensorFlow backend.\n"
     ]
    }
   ],
   "source": [
    "from keras.applications import * \n",
    "from keras.preprocessing.image import * \n",
    "from keras.optimizers import * \n",
    "from keras.models import *\n",
    "from keras.layers import * \n",
    "img_dim_ordering = \"tf\"\n",
    "from keras import backend as K\n",
    "K.set_image_dim_ordering(img_dim_ordering)\n",
    "from keras.callbacks import ModelCheckpoint"
   ]
  },
  {
   "cell_type": "code",
   "execution_count": 32,
   "metadata": {
    "collapsed": true
   },
   "outputs": [],
   "source": [
    "img_width, img_height = 299,299\n",
    "nb_classes = 10 \n",
    "train_data_dir = \"../paperspace/Downloads/monkey_training\"\n",
    "validation_data_dir = \"../paperspace/Downloads/monkey_validation\"\n",
    "testing_data_dir = \"../paperspace/Downloads/monkey_testing\"\n",
    "\n",
    "nb_train_samples = 1097\n",
    "nb_validation_samples = 272\n",
    "nb_test_samples = 981 \n",
    "#nb_test_samples = \n",
    "epochs = 5\n",
    "batch_size = 16\n",
    "input_tensor = Input(shape=(img_width,img_height,3))\n",
    "\n",
    "base_model = Xception(weights='imagenet',include_top=False,input_tensor=input_tensor)\n",
    "top_model = Sequential()\n",
    "top_model.add(Flatten(input_shape=base_model.output_shape[1:]))\n",
    "top_model.add(BatchNormalization())\n",
    "top_model.add(Dense(nb_classes, activation='softmax'))\n",
    "\n",
    "#top_model.load_weights('bootlneck_fc_model.h5')\n",
    "model = Model(inputs= base_model.input, outputs= top_model(base_model.output))"
   ]
  },
  {
   "cell_type": "code",
   "execution_count": 33,
   "metadata": {
    "collapsed": true
   },
   "outputs": [],
   "source": [
    "for layer in base_model.layers:\n",
    "    layer.trainable = False"
   ]
  },
  {
   "cell_type": "code",
   "execution_count": 34,
   "metadata": {},
   "outputs": [
    {
     "name": "stdout",
     "output_type": "stream",
     "text": [
      "Found 1097 images belonging to 10 classes.\n",
      "Found 272 images belonging to 10 classes.\n",
      "Found 981 images belonging to 10 classes.\n"
     ]
    }
   ],
   "source": [
    "from  PIL import  ImageFile\n",
    "ImageFile.LOAD_TRUNCATED_IMAGES = True\n",
    "\n",
    "#sgd=optimizers.SGD(lr=0.0001, decay=1e-6,momentum=0.9,nesterov=True)\n",
    "\n",
    "model.compile(loss='categorical_crossentropy',\n",
    "optimizer=\"sgd\", metrics=['accuracy'])\n",
    "\n",
    "# prepare data augmentation configuration\n",
    "train_datagen = ImageDataGenerator(\n",
    "                rescale=1. / 255,\n",
    "                shear_range=0.2,\n",
    "                zoom_range=0.2,\n",
    "                horizontal_flip=True)\n",
    "\n",
    "test_datagen = ImageDataGenerator(\n",
    "                rescale=1. / 255,\n",
    "                rotation_range=30,\n",
    "                width_shift_range=0.2,\n",
    "                height_shift_range=0.2,\n",
    "                shear_range=0.2,\n",
    "                zoom_range=0.2,\n",
    "                horizontal_flip=True)\n",
    "\n",
    "train_generator = train_datagen.flow_from_directory(\n",
    "                  train_data_dir,\n",
    "                  target_size=(img_height, img_width),\n",
    "                  batch_size = batch_size,\n",
    "                  class_mode='categorical')\n",
    "valid_generator = test_datagen.flow_from_directory(\n",
    "                  validation_data_dir,\n",
    "                  target_size=(img_height, img_width),\n",
    "                  batch_size=batch_size,\n",
    "                  class_mode=\"categorical\")\n",
    "\n",
    "test_generator = test_datagen.flow_from_directory(\n",
    "                 testing_data_dir,\n",
    "                 target_size = (img_height, img_width),\n",
    "                 batch_size = 1,\n",
    "                 class_mode=\"categorical\",\n",
    "                 shuffle=False)\n",
    "\n",
    "checkpointer = ModelCheckpoint(filepath =  \"../paperspace/Downloads/monkey_weights_5.hdf5\",\n",
    "                               verbose = 1,\n",
    "                               save_best_only = True)\n",
    "\n",
    "filenames = test_generator.filenames\n",
    "nb_samples = len(filenames)\n",
    "\n"
   ]
  },
  {
   "cell_type": "code",
   "execution_count": 35,
   "metadata": {},
   "outputs": [
    {
     "name": "stderr",
     "output_type": "stream",
     "text": [
      "/home/paperspace/anaconda3/lib/python3.6/site-packages/ipykernel_launcher.py:8: UserWarning: The semantics of the Keras 2 argument `steps_per_epoch` is not the same as the Keras 1 argument `samples_per_epoch`. `steps_per_epoch` is the number of batches to draw from the generator at each epoch. Basically steps_per_epoch = samples_per_epoch/batch_size. Similarly `nb_val_samples`->`validation_steps` and `val_samples`->`steps` arguments have changed. Update your method calls accordingly.\n",
      "  \n",
      "/home/paperspace/anaconda3/lib/python3.6/site-packages/ipykernel_launcher.py:8: UserWarning: Update your `fit_generator` call to the Keras 2 API: `fit_generator(<keras.pre..., steps_per_epoch=68, epochs=5, validation_data=<keras.pre..., callbacks=[<keras.ca..., verbose=1, validation_steps=272)`\n",
      "  \n"
     ]
    },
    {
     "name": "stdout",
     "output_type": "stream",
     "text": [
      "Epoch 1/5\n",
      "67/68 [============================>.] - ETA: 0s - loss: 1.4299 - acc: 0.8420Epoch 00001: val_loss improved from inf to 0.80388, saving model to ../paperspace/Downloads/monkey_weights_5.hdf5\n",
      "68/68 [==============================] - 270s 4s/step - loss: 1.4372 - acc: 0.8416 - val_loss: 0.8039 - val_acc: 0.9026\n",
      "Epoch 2/5\n",
      "67/68 [============================>.] - ETA: 0s - loss: 0.5050 - acc: 0.9403Epoch 00002: val_loss improved from 0.80388 to 0.71089, saving model to ../paperspace/Downloads/monkey_weights_5.hdf5\n",
      "68/68 [==============================] - 255s 4s/step - loss: 0.5124 - acc: 0.9393 - val_loss: 0.7109 - val_acc: 0.9278\n",
      "Epoch 3/5\n",
      "67/68 [============================>.] - ETA: 0s - loss: 0.4128 - acc: 0.9580Epoch 00003: val_loss did not improve\n",
      "68/68 [==============================] - 257s 4s/step - loss: 0.4068 - acc: 0.9586 - val_loss: 0.8797 - val_acc: 0.9198\n",
      "Epoch 4/5\n",
      "67/68 [============================>.] - ETA: 0s - loss: 0.3071 - acc: 0.9648Epoch 00004: val_loss did not improve\n",
      "68/68 [==============================] - 255s 4s/step - loss: 0.3026 - acc: 0.9653 - val_loss: 0.9766 - val_acc: 0.9120\n",
      "Epoch 5/5\n",
      "67/68 [============================>.] - ETA: 0s - loss: 0.3815 - acc: 0.9629Epoch 00005: val_loss did not improve\n",
      "68/68 [==============================] - 256s 4s/step - loss: 0.3908 - acc: 0.9625 - val_loss: 1.0991 - val_acc: 0.9076\n"
     ]
    },
    {
     "data": {
      "text/plain": [
       "<keras.callbacks.History at 0x7f4444706a20>"
      ]
     },
     "execution_count": 35,
     "metadata": {},
     "output_type": "execute_result"
    }
   ],
   "source": [
    "# fine-tune the model\n",
    "model.fit_generator(\n",
    "    train_generator,\n",
    "    steps_per_epoch=nb_train_samples // batch_size,\n",
    "    epochs = 5,\n",
    "    validation_data=valid_generator,\n",
    "    nb_val_samples = nb_validation_samples,\n",
    "    callbacks = [checkpointer], verbose = 1)"
   ]
  },
  {
   "cell_type": "code",
   "execution_count": 36,
   "metadata": {},
   "outputs": [
    {
     "name": "stdout",
     "output_type": "stream",
     "text": [
      "981/981 [==============================] - 43s 44ms/step\n"
     ]
    }
   ],
   "source": [
    "model.load_weights(\"/home/paperspace/Downloads/monkey_weights_5.hdf5\")\n",
    "pred0 = model.predict_generator(test_generator,steps = nb_samples, verbose=1)"
   ]
  },
  {
   "cell_type": "code",
   "execution_count": 37,
   "metadata": {},
   "outputs": [
    {
     "name": "stdout",
     "output_type": "stream",
     "text": [
      "[[86  0  0  0  0  0  0  0  4  5]\n",
      " [ 0 93  0  0  0  0  0  1  4  1]\n",
      " [ 1  2 90  5  3  1  6  0  7  3]\n",
      " [ 0  0  0 91  2  1  1  0  0  2]\n",
      " [ 3  0  4  1 87  0 12  0 11  7]\n",
      " [ 2  0  0  1  0 93  1  0  5  3]\n",
      " [ 0  0  2  1  1  0 74  0  0  0]\n",
      " [ 2  4  0  0  2  0  2 97  6  0]\n",
      " [ 4  1  1  0  3  0  1  1 53  2]\n",
      " [ 1  0  1  0  1  1  0  0  7 74]]\n",
      "overall accuracy is 0.854230377166157\n",
      "[0.90526315789473688, 0.93939393939393945, 0.76271186440677963, 0.93814432989690721, 0.69599999999999995, 0.88571428571428568, 0.94871794871794868, 0.8584070796460177, 0.80303030303030298, 0.87058823529411766]\n"
     ]
    }
   ],
   "source": [
    "pred_ix = [np.argmax(z) for z in pred0]\n",
    "\n",
    "\n",
    "actual_ix = [z[1] for z in filenames]\n",
    "actual_ix = [int(z) for z  in actual_ix]\n",
    "\n",
    "\n",
    "from sklearn.metrics import confusion_matrix\n",
    "\n",
    "bob = confusion_matrix(pred_ix,actual_ix)\n",
    "print(bob)\n",
    "\n",
    "corrects = 0\n",
    "for i in range(len(actual_ix)):\n",
    "    if actual_ix[i] == pred_ix[i]:\n",
    "       corrects += 1  \n",
    "print(\"overall accuracy is\",corrects/len(actual_ix))\n",
    "\n",
    "\n",
    "class_accuracy = list() \n",
    "for i in range(10):\n",
    "    right = bob[i,i]\n",
    "    total = np.sum(bob,axis=1)[i]\n",
    "    class_acc = right/total \n",
    "    class_accuracy.append(class_acc)\n",
    "    \n",
    "\n",
    "print(class_accuracy)"
   ]
  },
  {
   "cell_type": "code",
   "execution_count": 38,
   "metadata": {},
   "outputs": [
    {
     "data": {
      "image/png": "[encoded data removed]",
      "text/plain": [
       "<matplotlib.figure.Figure at 0x7f4433231a20>"
      ]
     },
     "metadata": {},
     "output_type": "display_data"
    }
   ],
   "source": [
    "import seaborn as sns\n",
    "import matplotlib.pyplot as plt\n",
    "sns.heatmap(bob,\n",
    "            annot=True,\n",
    "            cmap=\"Set2\")\n",
    "plt.show()"
   ]
  },
  {
   "cell_type": "code",
   "execution_count": null,
   "metadata": {
    "collapsed": true
   },
   "outputs": [],
   "source": []
  }
 ],
 "metadata": {
  "kernelspec": {
   "display_name": "Python 3",
   "language": "python",
   "name": "python3"
  },
  "language_info": {
   "codemirror_mode": {
    "name": "ipython",
    "version": 3
   },
   "file_extension": ".py",
   "mimetype": "text/x-python",
   "name": "python",
   "nbconvert_exporter": "python",
   "pygments_lexer": "ipython3",
   "version": "3.6.3"
  }
 },
 "nbformat": 4,
 "nbformat_minor": 2
}
